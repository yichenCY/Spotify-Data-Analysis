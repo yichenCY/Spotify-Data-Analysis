{
 "cells": [
  {
   "cell_type": "code",
   "execution_count": 1,
   "id": "fbe8fa82",
   "metadata": {},
   "outputs": [],
   "source": [
    "import numpy as np\n",
    "import pandas as pd\n",
    "from sklearn.preprocessing import StandardScaler\n",
    "import matplotlib.pyplot as plt\n",
    "%matplotlib inline\n",
    "import pandas as pd\n",
    "import sklearn\n",
    "import time\n"
   ]
  },
  {
   "cell_type": "code",
   "execution_count": 2,
   "id": "b4563d93",
   "metadata": {},
   "outputs": [],
   "source": [
    "# Read Json file\n",
    "df = pd.read_json('./tracks.json')\n",
    "# Check Null\n",
    "#df.isnull().sum(axis=0)"
   ]
  },
  {
   "cell_type": "code",
   "execution_count": 3,
   "id": "ba5abdef",
   "metadata": {},
   "outputs": [],
   "source": [
    "# Drop the column if the number of unique value <= 1\n",
    "drop_list = []\n",
    "for column in df:\n",
    "    if (df[column].nunique() <= 1):\n",
    "        drop_list.append(column)\n",
    "    # print(column,df[column].nunique())\n",
    "df.drop(drop_list,axis=1,inplace=True)\n",
    "#drop_list"
   ]
  },
  {
   "cell_type": "code",
   "execution_count": 4,
   "id": "481df7e5",
   "metadata": {},
   "outputs": [],
   "source": [
    "a = df.groupby('artist').popularity.mean().reset_index()\n",
    "def change_popularity(x):\n",
    "    return a[a.artist == x.artist]['popularity'].item()\n",
    "df.loc[df['popularity'] == 0,'popularity'] = df[df['popularity'] == 0][['artist','popularity']].apply(change_popularity,axis = 1)"
   ]
  },
  {
   "cell_type": "code",
   "execution_count": 5,
   "id": "9ac7a3be",
   "metadata": {},
   "outputs": [
    {
     "data": {
      "text/plain": [
       "56.0"
      ]
     },
     "execution_count": 5,
     "metadata": {},
     "output_type": "execute_result"
    }
   ],
   "source": [
    "df.popularity.median()"
   ]
  },
  {
   "cell_type": "code",
   "execution_count": 6,
   "id": "410b9310",
   "metadata": {},
   "outputs": [],
   "source": [
    "# Translate date to timestamp \n",
    "df['timestamp'] = df['release_date'].apply(lambda x:time.mktime(time.strptime(x,'%Y-%m-%d')))"
   ]
  },
  {
   "cell_type": "code",
   "execution_count": 21,
   "id": "7f7da140",
   "metadata": {},
   "outputs": [],
   "source": [
    "# The median of popularity is 56, \n",
    "#when a song’s popularity is over 56, we define the song as success, and label the song with 1\n",
    "# Otherwise, we define as 0 \n",
    "df['label'] = df['popularity'] > df.popularity.median()\n",
    "df['label'] = df['label'].astype(int)"
   ]
  },
  {
   "cell_type": "code",
   "execution_count": 8,
   "id": "681f6aa8",
   "metadata": {},
   "outputs": [],
   "source": [
    "constant_columns = ['num_samples',\"timestamp\",\"id\",\"name\",\"artist\",\"release_date\"]"
   ]
  },
  {
   "cell_type": "markdown",
   "id": "744e88be",
   "metadata": {},
   "source": [
    "## Dataset for LR"
   ]
  },
  {
   "cell_type": "code",
   "execution_count": 22,
   "id": "7d50cab9",
   "metadata": {},
   "outputs": [],
   "source": [
    "#Drop Unused Features\n",
    "df_LR = df.drop(columns = constant_columns)\n",
    "df_LR.to_csv(\"LR_data.csv\",encoding='utf-8',index=False)"
   ]
  },
  {
   "cell_type": "markdown",
   "id": "e1b0c9f2",
   "metadata": {},
   "source": [
    "## Dataset for Clustering"
   ]
  },
  {
   "cell_type": "code",
   "execution_count": 12,
   "id": "5a1d955b",
   "metadata": {},
   "outputs": [
    {
     "data": {
      "text/plain": [
       "Index(['danceability', 'energy', 'speechiness', 'acousticness',\n",
       "       'instrumentalness', 'liveness', 'valence'],\n",
       "      dtype='object')"
      ]
     },
     "execution_count": 12,
     "metadata": {},
     "output_type": "execute_result"
    }
   ],
   "source": [
    "# Filter out the popular songs, where \"label\" = 1\n",
    "df_cluster = df[df['label'] == 1]\n",
    "# Select Audio features\n",
    "Aud_feature = [\"danceability\",\"energy\",\"speechiness\",\"acousticness\",\"instrumentalness\",\"liveness\",\"valence\"]\n",
    "df_cluster=  df_cluster[Aud_feature]\n",
    "df_cluster.to_csv(\"cluster_Aud.csv\",encoding='utf-8',index=False)\n",
    "#df_cluster.column"
   ]
  }
 ],
 "metadata": {
  "kernelspec": {
   "display_name": "Python 3 (ipykernel)",
   "language": "python",
   "name": "python3"
  },
  "language_info": {
   "codemirror_mode": {
    "name": "ipython",
    "version": 3
   },
   "file_extension": ".py",
   "mimetype": "text/x-python",
   "name": "python",
   "nbconvert_exporter": "python",
   "pygments_lexer": "ipython3",
   "version": "3.9.7"
  }
 },
 "nbformat": 4,
 "nbformat_minor": 5
}
